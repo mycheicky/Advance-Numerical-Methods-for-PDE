{
  "nbformat": 4,
  "nbformat_minor": 0,
  "metadata": {
    "colab": {
      "name": "NextGateTech.ipynb",
      "provenance": [],
      "collapsed_sections": [],
      "authorship_tag": "ABX9TyNmyA5ybl7O4vj5oJCkj3Aw",
      "include_colab_link": true
    },
    "kernelspec": {
      "name": "python3",
      "display_name": "Python 3"
    }
  },
  "cells": [
    {
      "cell_type": "markdown",
      "metadata": {
        "id": "view-in-github",
        "colab_type": "text"
      },
      "source": [
        "<a href=\"https://colab.research.google.com/github/mycheicky/Advance-Numerical-Methods-for-PDE/blob/master/NextGateTech.ipynb\" target=\"_parent\"><img src=\"https://colab.research.google.com/assets/colab-badge.svg\" alt=\"Open In Colab\"/></a>"
      ]
    },
    {
      "cell_type": "code",
      "metadata": {
        "id": "-I7z_ZGTCLSv"
      },
      "source": [
        "import pandas as pd\r\n",
        "import numpy as np\r\n",
        "import seaborn as sb\r\n",
        "import matplotlib.pyplot as plt"
      ],
      "execution_count": null,
      "outputs": []
    },
    {
      "cell_type": "code",
      "metadata": {
        "id": "ZmKE2xCZNjRQ"
      },
      "source": [
        "# 1) Check the variables from the data \r\n",
        "df = pd.read_csv('ngt_software_engineer_test_example_data (clean columns).csv', header=0, sep=',', decimal='.')"
      ],
      "execution_count": null,
      "outputs": []
    },
    {
      "cell_type": "code",
      "metadata": {
        "id": "r6ZSSaRFCa8t"
      },
      "source": [
        "# 2) The checking of the data\r\n",
        "print(df.shape[0], ' rows')\r\n",
        "print(df.shape[1], ' columns ')\r\n",
        "print('\\nList of variables: ')\r\n",
        "for col in df.columns:\r\n",
        "    print(col)\r\n",
        "\r\n",
        "# List of columns having NaN values\r\n",
        "print('\\nTypes of variables')\r\n",
        "print(df.dtypes.value_counts(), '\\n')\r\n",
        "print('Data has ', df.isna().sum().sum(), ' number of NaN', '\\n')\r\n",
        "print('NAN per columns')\r\n",
        "for col in df:\r\n",
        "  if df[col].isna().sum() > 0:\r\n",
        "    print(col, ' has ', df[col].isna().sum(), ' NaN')"
      ],
      "execution_count": null,
      "outputs": []
    },
    {
      "cell_type": "code",
      "metadata": {
        "id": "-y0MU1a-DpIK"
      },
      "source": [
        "# 3) Calculate the correlation of 11 instruments 'Nav_Per_Share'\r\n",
        "fund_code = df['Subfund_Code'].unique() # Here I notice that I've 3 subfunds so I's going to creat 3\r\n",
        "val = []\r\n",
        "\r\n",
        "# ==> Check all the graphs of each instrument to preview if there are some correlations between some\r\n",
        "for sub in fund_code:\r\n",
        "  fund = df[df['Subfund_Code'] == sub ]\r\n",
        "  clas = fund['Share_Class_Code'].unique()\r\n",
        "\r\n",
        "  print()\r\n",
        "  print('Sub Fund: ', sub, ' | Currency of the sub fund: ', fund['Subfund_CCY'].unique())\r\n",
        "\r\n",
        "  for cl in clas:\r\n",
        "    data = fund[fund['Share_Class_Code'] == cl]\r\n",
        "\r\n",
        "    # Preparing the correlation data\r\n",
        "    val.append(pd.DataFrame({'Date': data['Valuation_Date'], str(sub) + str(cl): data['NAV_Per_Share']}))\r\n",
        "\r\n",
        "    print()\r\n",
        "    print('Share class: ', str(cl), ' | NAV Currency: ', data['CCY_NAV_share'].unique())\r\n",
        "    \r\n",
        "    # Graph of each instrument per sub fund\r\n",
        "    plt.figure(figsize=(15, 10))\r\n",
        "    plt.plot( data['NAV_Per_Share'], label=str(sub) + str(cl))\r\n",
        "    plt.legend()\r\n",
        "    plt.show()"
      ],
      "execution_count": null,
      "outputs": []
    },
    {
      "cell_type": "code",
      "metadata": {
        "colab": {
          "base_uri": "https://localhost:8080/",
          "height": 390
        },
        "id": "7gvkzYIhEPiK",
        "outputId": "af20b767-6928-4943-b5bd-e0ea7be551fa"
      },
      "source": [
        "# ==> The computing of the correlation between the 11 instruments\r\n",
        "#     The building of the correlation matrix data based on the Valuation_Date and removing the missing data (using inner merge)\r\n",
        "instr = val[0]\r\n",
        "for i in range(1, len(val)):\r\n",
        "  instr = instr.merge(val[i], on='Date')\r\n",
        "\r\n",
        "#    The correlation computing\r\n",
        "instr.corr()"
      ],
      "execution_count": null,
      "outputs": [
        {
          "output_type": "execute_result",
          "data": {
            "text/html": [
              "<div>\n",
              "<style scoped>\n",
              "    .dataframe tbody tr th:only-of-type {\n",
              "        vertical-align: middle;\n",
              "    }\n",
              "\n",
              "    .dataframe tbody tr th {\n",
              "        vertical-align: top;\n",
              "    }\n",
              "\n",
              "    .dataframe thead th {\n",
              "        text-align: right;\n",
              "    }\n",
              "</style>\n",
              "<table border=\"1\" class=\"dataframe\">\n",
              "  <thead>\n",
              "    <tr style=\"text-align: right;\">\n",
              "      <th></th>\n",
              "      <th>1A</th>\n",
              "      <th>1B</th>\n",
              "      <th>1C</th>\n",
              "      <th>1D</th>\n",
              "      <th>2A</th>\n",
              "      <th>2B</th>\n",
              "      <th>2C</th>\n",
              "      <th>2D</th>\n",
              "      <th>2E</th>\n",
              "      <th>3A</th>\n",
              "      <th>3B</th>\n",
              "    </tr>\n",
              "  </thead>\n",
              "  <tbody>\n",
              "    <tr>\n",
              "      <th>1A</th>\n",
              "      <td>1.000000</td>\n",
              "      <td>0.993017</td>\n",
              "      <td>0.997665</td>\n",
              "      <td>0.997716</td>\n",
              "      <td>0.894131</td>\n",
              "      <td>0.965188</td>\n",
              "      <td>0.954956</td>\n",
              "      <td>0.968039</td>\n",
              "      <td>0.959560</td>\n",
              "      <td>-0.815522</td>\n",
              "      <td>-0.815356</td>\n",
              "    </tr>\n",
              "    <tr>\n",
              "      <th>1B</th>\n",
              "      <td>0.993017</td>\n",
              "      <td>1.000000</td>\n",
              "      <td>0.995144</td>\n",
              "      <td>0.995176</td>\n",
              "      <td>0.857470</td>\n",
              "      <td>0.977551</td>\n",
              "      <td>0.968342</td>\n",
              "      <td>0.977274</td>\n",
              "      <td>0.971292</td>\n",
              "      <td>-0.757360</td>\n",
              "      <td>-0.757213</td>\n",
              "    </tr>\n",
              "    <tr>\n",
              "      <th>1C</th>\n",
              "      <td>0.997665</td>\n",
              "      <td>0.995144</td>\n",
              "      <td>1.000000</td>\n",
              "      <td>0.999997</td>\n",
              "      <td>0.871670</td>\n",
              "      <td>0.972747</td>\n",
              "      <td>0.963825</td>\n",
              "      <td>0.974604</td>\n",
              "      <td>0.967455</td>\n",
              "      <td>-0.779614</td>\n",
              "      <td>-0.779416</td>\n",
              "    </tr>\n",
              "    <tr>\n",
              "      <th>1D</th>\n",
              "      <td>0.997716</td>\n",
              "      <td>0.995176</td>\n",
              "      <td>0.999997</td>\n",
              "      <td>1.000000</td>\n",
              "      <td>0.871961</td>\n",
              "      <td>0.972768</td>\n",
              "      <td>0.963848</td>\n",
              "      <td>0.974644</td>\n",
              "      <td>0.967484</td>\n",
              "      <td>-0.779930</td>\n",
              "      <td>-0.779732</td>\n",
              "    </tr>\n",
              "    <tr>\n",
              "      <th>2A</th>\n",
              "      <td>0.894131</td>\n",
              "      <td>0.857470</td>\n",
              "      <td>0.871670</td>\n",
              "      <td>0.871961</td>\n",
              "      <td>1.000000</td>\n",
              "      <td>0.828887</td>\n",
              "      <td>0.828461</td>\n",
              "      <td>0.848386</td>\n",
              "      <td>0.837385</td>\n",
              "      <td>-0.912778</td>\n",
              "      <td>-0.912718</td>\n",
              "    </tr>\n",
              "    <tr>\n",
              "      <th>2B</th>\n",
              "      <td>0.965188</td>\n",
              "      <td>0.977551</td>\n",
              "      <td>0.972747</td>\n",
              "      <td>0.972768</td>\n",
              "      <td>0.828887</td>\n",
              "      <td>1.000000</td>\n",
              "      <td>0.990821</td>\n",
              "      <td>0.992359</td>\n",
              "      <td>0.991409</td>\n",
              "      <td>-0.677415</td>\n",
              "      <td>-0.677254</td>\n",
              "    </tr>\n",
              "    <tr>\n",
              "      <th>2C</th>\n",
              "      <td>0.954956</td>\n",
              "      <td>0.968342</td>\n",
              "      <td>0.963825</td>\n",
              "      <td>0.963848</td>\n",
              "      <td>0.828461</td>\n",
              "      <td>0.990821</td>\n",
              "      <td>1.000000</td>\n",
              "      <td>0.998675</td>\n",
              "      <td>0.999829</td>\n",
              "      <td>-0.654143</td>\n",
              "      <td>-0.654028</td>\n",
              "    </tr>\n",
              "    <tr>\n",
              "      <th>2D</th>\n",
              "      <td>0.968039</td>\n",
              "      <td>0.977274</td>\n",
              "      <td>0.974604</td>\n",
              "      <td>0.974644</td>\n",
              "      <td>0.848386</td>\n",
              "      <td>0.992359</td>\n",
              "      <td>0.998675</td>\n",
              "      <td>1.000000</td>\n",
              "      <td>0.999388</td>\n",
              "      <td>-0.687824</td>\n",
              "      <td>-0.687693</td>\n",
              "    </tr>\n",
              "    <tr>\n",
              "      <th>2E</th>\n",
              "      <td>0.959560</td>\n",
              "      <td>0.971292</td>\n",
              "      <td>0.967455</td>\n",
              "      <td>0.967484</td>\n",
              "      <td>0.837385</td>\n",
              "      <td>0.991409</td>\n",
              "      <td>0.999829</td>\n",
              "      <td>0.999388</td>\n",
              "      <td>1.000000</td>\n",
              "      <td>-0.667414</td>\n",
              "      <td>-0.667299</td>\n",
              "    </tr>\n",
              "    <tr>\n",
              "      <th>3A</th>\n",
              "      <td>-0.815522</td>\n",
              "      <td>-0.757360</td>\n",
              "      <td>-0.779614</td>\n",
              "      <td>-0.779930</td>\n",
              "      <td>-0.912778</td>\n",
              "      <td>-0.677415</td>\n",
              "      <td>-0.654143</td>\n",
              "      <td>-0.687824</td>\n",
              "      <td>-0.667414</td>\n",
              "      <td>1.000000</td>\n",
              "      <td>0.999998</td>\n",
              "    </tr>\n",
              "    <tr>\n",
              "      <th>3B</th>\n",
              "      <td>-0.815356</td>\n",
              "      <td>-0.757213</td>\n",
              "      <td>-0.779416</td>\n",
              "      <td>-0.779732</td>\n",
              "      <td>-0.912718</td>\n",
              "      <td>-0.677254</td>\n",
              "      <td>-0.654028</td>\n",
              "      <td>-0.687693</td>\n",
              "      <td>-0.667299</td>\n",
              "      <td>0.999998</td>\n",
              "      <td>1.000000</td>\n",
              "    </tr>\n",
              "  </tbody>\n",
              "</table>\n",
              "</div>"
            ],
            "text/plain": [
              "          1A        1B        1C  ...        2E        3A        3B\n",
              "1A  1.000000  0.993017  0.997665  ...  0.959560 -0.815522 -0.815356\n",
              "1B  0.993017  1.000000  0.995144  ...  0.971292 -0.757360 -0.757213\n",
              "1C  0.997665  0.995144  1.000000  ...  0.967455 -0.779614 -0.779416\n",
              "1D  0.997716  0.995176  0.999997  ...  0.967484 -0.779930 -0.779732\n",
              "2A  0.894131  0.857470  0.871670  ...  0.837385 -0.912778 -0.912718\n",
              "2B  0.965188  0.977551  0.972747  ...  0.991409 -0.677415 -0.677254\n",
              "2C  0.954956  0.968342  0.963825  ...  0.999829 -0.654143 -0.654028\n",
              "2D  0.968039  0.977274  0.974604  ...  0.999388 -0.687824 -0.687693\n",
              "2E  0.959560  0.971292  0.967455  ...  1.000000 -0.667414 -0.667299\n",
              "3A -0.815522 -0.757360 -0.779614  ... -0.667414  1.000000  0.999998\n",
              "3B -0.815356 -0.757213 -0.779416  ... -0.667299  0.999998  1.000000\n",
              "\n",
              "[11 rows x 11 columns]"
            ]
          },
          "metadata": {
            "tags": []
          },
          "execution_count": 6
        }
      ]
    },
    {
      "cell_type": "code",
      "metadata": {
        "id": "GLSuQFWYDqQ5"
      },
      "source": [
        "#    Convert the correlation matrix to dict\r\n",
        "corr_dict = instr.corr().to_dict()"
      ],
      "execution_count": null,
      "outputs": []
    },
    {
      "cell_type": "code",
      "metadata": {
        "id": "zp3B4PntFEMG",
        "colab": {
          "base_uri": "https://localhost:8080/"
        },
        "outputId": "bf2f1a96-3ec5-449d-b4cc-9c5e50d988b1"
      },
      "source": [
        "# 4) Firebase management\r\n",
        "\r\n",
        "# To get acces to my Firebase project\r\n",
        "import firebase_admin\r\n",
        "from firebase_admin import credentials\r\n",
        "from firebase_admin import db\r\n",
        "\r\n",
        "# Fetch the service account key JSON file contents\r\n",
        "cred = credentials.Certificate('/content/ngtdevtest-firebase-adminsdk-nk5uo-8711d47d79.json')\r\n",
        "\r\n",
        "# Initialize the app with a custom auth variable, limiting the server's access\r\n",
        "firebase_admin.initialize_app(cred, {\r\n",
        "    'databaseURL': 'https://ngtdevtest-default-rtdb.firebaseio.com/',\r\n",
        "    'databaseAuthVariableOverride': {\r\n",
        "        'uid': 'service-account'\r\n",
        "    }\r\n",
        "}, name=\"ngtqdtApp\")"
      ],
      "execution_count": 22,
      "outputs": [
        {
          "output_type": "execute_result",
          "data": {
            "text/plain": [
              "<firebase_admin.App at 0x7f0c4f92deb8>"
            ]
          },
          "metadata": {
            "tags": []
          },
          "execution_count": 22
        }
      ]
    },
    {
      "cell_type": "code",
      "metadata": {
        "id": "RWDKDSwQHTqW"
      },
      "source": [
        "# As an admin, the app has access to read and write all data, regradless of Security Rules\r\n",
        "ref = db.reference('/')\r\n",
        "ref.child('thekeyresults').set(corr_dict)"
      ],
      "execution_count": 26,
      "outputs": []
    },
    {
      "cell_type": "code",
      "metadata": {
        "colab": {
          "base_uri": "https://localhost:8080/"
        },
        "id": "5iNHFlUlShaj",
        "outputId": "792f4151-321a-481d-dc64-1b45679f3b15"
      },
      "source": [
        "print(ref.get())"
      ],
      "execution_count": 27,
      "outputs": [
        {
          "output_type": "stream",
          "text": [
            "{'thekeyresults': {'1A': {'1A': 1.0, '1B': 0.993017338448721, '1C': 0.9976651242220277, '1D': 0.9977164089934377, '2A': 0.8941310336113583, '2B': 0.9651881502812986, '2C': 0.9549558108488158, '2D': 0.9680389194097627, '2E': 0.9595595807288593, '3A': -0.8155216411762898, '3B': -0.8153561195659342}, '1B': {'1A': 0.993017338448721, '1B': 1.0, '1C': 0.9951441906160894, '1D': 0.9951757758696038, '2A': 0.8574700821754557, '2B': 0.9775509855418766, '2C': 0.9683420342676197, '2D': 0.9772737167202332, '2E': 0.9712916727741885, '3A': -0.7573599785026255, '3B': -0.7572133906734726}, '1C': {'1A': 0.9976651242220277, '1B': 0.9951441906160894, '1C': 1.0, '1D': 0.9999969098301892, '2A': 0.8716696352416526, '2B': 0.9727465520711558, '2C': 0.9638247564576181, '2D': 0.9746042784783738, '2E': 0.9674546399189106, '3A': -0.7796140360528588, '3B': -0.7794159712203539}, '1D': {'1A': 0.9977164089934377, '1B': 0.9951757758696038, '1C': 0.9999969098301892, '1D': 1.0, '2A': 0.8719610189914749, '2B': 0.9727678874920617, '2C': 0.9638483229966726, '2D': 0.9746437535051903, '2E': 0.9674838263608322, '3A': -0.7799296711440576, '3B': -0.7797319814933489}, '2A': {'1A': 0.8941310336113583, '1B': 0.8574700821754557, '1C': 0.8716696352416526, '1D': 0.8719610189914749, '2A': 1.0, '2B': 0.8288868562202828, '2C': 0.8284611877024082, '2D': 0.848385918693884, '2E': 0.8373852390701043, '3A': -0.9127779700407317, '3B': -0.9127184780966445}, '2B': {'1A': 0.9651881502812986, '1B': 0.9775509855418766, '1C': 0.9727465520711558, '1D': 0.9727678874920617, '2A': 0.8288868562202828, '2B': 1.0, '2C': 0.9908210929139183, '2D': 0.9923589249622631, '2E': 0.9914089873758803, '3A': -0.6774147247635495, '3B': -0.6772543651430109}, '2C': {'1A': 0.9549558108488158, '1B': 0.9683420342676197, '1C': 0.9638247564576181, '1D': 0.9638483229966726, '2A': 0.8284611877024082, '2B': 0.9908210929139183, '2C': 1.0, '2D': 0.9986746365751502, '2E': 0.9998292754016583, '3A': -0.6541433441090486, '3B': -0.6540282389258868}, '2D': {'1A': 0.9680389194097627, '1B': 0.9772737167202332, '1C': 0.9746042784783738, '1D': 0.9746437535051903, '2A': 0.848385918693884, '2B': 0.9923589249622631, '2C': 0.9986746365751502, '2D': 1.0, '2E': 0.9993884367396624, '3A': -0.6878236250677179, '3B': -0.6876933553026127}, '2E': {'1A': 0.9595595807288593, '1B': 0.9712916727741885, '1C': 0.9674546399189106, '1D': 0.9674838263608322, '2A': 0.8373852390701043, '2B': 0.9914089873758803, '2C': 0.9998292754016583, '2D': 0.9993884367396624, '2E': 1.0, '3A': -0.6674142442191973, '3B': -0.6672990263249391}, '3A': {'1A': -0.8155216411762898, '1B': -0.7573599785026255, '1C': -0.7796140360528588, '1D': -0.7799296711440576, '2A': -0.9127779700407317, '2B': -0.6774147247635495, '2C': -0.6541433441090486, '2D': -0.6878236250677179, '2E': -0.6674142442191973, '3A': 1.0, '3B': 0.9999975928126069}, '3B': {'1A': -0.8153561195659342, '1B': -0.7572133906734726, '1C': -0.7794159712203539, '1D': -0.7797319814933489, '2A': -0.9127184780966445, '2B': -0.6772543651430109, '2C': -0.6540282389258868, '2D': -0.6876933553026127, '2E': -0.6672990263249391, '3A': 0.9999975928126069, '3B': 1.0}}}\n"
          ],
          "name": "stdout"
        }
      ]
    }
  ]
}